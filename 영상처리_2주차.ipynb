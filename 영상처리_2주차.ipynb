{
  "nbformat": 4,
  "nbformat_minor": 0,
  "metadata": {
    "colab": {
      "name": "영상처리 2주차.ipynb",
      "provenance": [],
      "collapsed_sections": [
        "EtCVMpRLOf1Z"
      ],
      "authorship_tag": "ABX9TyNGSlZ/fkiCzSnte/GNepvZ",
      "include_colab_link": true
    },
    "kernelspec": {
      "name": "python3",
      "display_name": "Python 3"
    }
  },
  "cells": [
    {
      "cell_type": "markdown",
      "metadata": {
        "id": "view-in-github",
        "colab_type": "text"
      },
      "source": [
        "<a href=\"https://colab.research.google.com/github/JuHyeon-S/20-1-Image_Processing/blob/master/%EC%98%81%EC%83%81%EC%B2%98%EB%A6%AC_2%EC%A3%BC%EC%B0%A8.ipynb\" target=\"_parent\"><img src=\"https://colab.research.google.com/assets/colab-badge.svg\" alt=\"Open In Colab\"/></a>"
      ]
    },
    {
      "cell_type": "markdown",
      "metadata": {
        "id": "EtCVMpRLOf1Z",
        "colab_type": "text"
      },
      "source": [
        "#2주차 실습"
      ]
    },
    {
      "cell_type": "code",
      "metadata": {
        "id": "hav5qJ-vujye",
        "colab_type": "code",
        "colab": {
          "base_uri": "https://localhost:8080/",
          "height": 0
        },
        "outputId": "f766e199-b0fa-40c3-d918-0514dc74b0fe"
      },
      "source": [
        "# Hello, World! 출력\n",
        "print('Hello, World!')\n",
        "print('Hello, World!'); # 세미콜론을 붙여도 에러발생 안함\n",
        "\n",
        "if True:\n",
        "  print('들여쓰기는 중요합니다!') #들여쓰기 적용"
      ],
      "execution_count": 1,
      "outputs": [
        {
          "output_type": "stream",
          "text": [
            "Hello, World!\n",
            "Hello, World!\n",
            "들여쓰기는 중요합니다!\n"
          ],
          "name": "stdout"
        }
      ]
    },
    {
      "cell_type": "code",
      "metadata": {
        "id": "RrT8enkVvspA",
        "colab_type": "code",
        "colab": {
          "base_uri": "https://localhost:8080/",
          "height": 0
        },
        "outputId": "3282baf5-c0a9-4dd3-960b-89751e5b76db"
      },
      "source": [
        "if True:\n",
        "print('들여쓰기는 중요합니다!') #들여쓰기 안 할 시 에러 발생"
      ],
      "execution_count": 1,
      "outputs": [
        {
          "output_type": "error",
          "ename": "IndentationError",
          "evalue": "ignored",
          "traceback": [
            "\u001b[0;36m  File \u001b[0;32m\"<ipython-input-2-981e5f35479e>\"\u001b[0;36m, line \u001b[0;32m2\u001b[0m\n\u001b[0;31m    print('들여쓰기는 중요합니다!') #들여쓰기 안 할 시 에러 발생\u001b[0m\n\u001b[0m        ^\u001b[0m\n\u001b[0;31mIndentationError\u001b[0m\u001b[0;31m:\u001b[0m expected an indented block\n"
          ]
        }
      ]
    },
    {
      "cell_type": "code",
      "metadata": {
        "id": "qyZUFutlvzmn",
        "colab_type": "code",
        "colab": {
          "base_uri": "https://localhost:8080/",
          "height": 0
        },
        "outputId": "6f03a029-5923-4086-d4cb-ad575ced954a"
      },
      "source": [
        "# 변수 선언\n",
        "num = 10\n",
        "x, y, z = 1, 2, 3\n",
        "word = 'Hello, World!'\n",
        "\n",
        "# 자료형 확인\n",
        "print('num: ',num, ', type: ', type(num))\n",
        "print('x: ', x, ', type: ', type(x))\n",
        "print('y: ', y, ', type: ', type(y))\n",
        "print('z: ', z, ', type: ', type(z))\n",
        "print('word: ', word, ', type: ', type(word))"
      ],
      "execution_count": 3,
      "outputs": [
        {
          "output_type": "stream",
          "text": [
            "num:  10 , type:  <class 'int'>\n",
            "x:  1 , type:  <class 'int'>\n",
            "y:  2 , type:  <class 'int'>\n",
            "z:  3 , type:  <class 'int'>\n",
            "word:  Hello, World! , type:  <class 'str'>\n"
          ],
          "name": "stdout"
        }
      ]
    },
    {
      "cell_type": "code",
      "metadata": {
        "id": "8pP1BNrlx5Dc",
        "colab_type": "code",
        "colab": {
          "base_uri": "https://localhost:8080/",
          "height": 0
        },
        "outputId": "debdf6c6-1fb7-4afc-89de-760cffbac34d"
      },
      "source": [
        "# 사용자로부터 입력 받은 문자 또는 문자열을 변수에 할당\n",
        "print('--------------------------')\n",
        "word1 = input()\n",
        "print('word1: ', word1)\n",
        "\n",
        "print('--------------------------')\n",
        "word2 = input()\n",
        "print('word2: ', word2)\n",
        "\n",
        "print('--------------------------')\n",
        "word3, word4 = input('문자열을 입력하세요: ').split()\n",
        "print('word3: ', word3, ', word4: ', word4)\n",
        "\n",
        "print('--------------------------')\n",
        "word5, word6 = input('문자열을 입력하세요: ').split(',')\n",
        "print('word5: ', word5, ', word6: ', word6)"
      ],
      "execution_count": 4,
      "outputs": [
        {
          "output_type": "stream",
          "text": [
            "--------------------------\n",
            "Hello\n",
            "word1:  Hello\n",
            "--------------------------\n",
            "Hello, World!\n",
            "word2:  Hello, World!\n",
            "--------------------------\n",
            "문자열을 입력하세요: Hello, World!\n",
            "word3:  Hello, , word4:  World!\n",
            "--------------------------\n",
            "문자열을 입력하세요: Hello, World!\n",
            "word5:  Hello , word6:   World!\n"
          ],
          "name": "stdout"
        }
      ]
    },
    {
      "cell_type": "code",
      "metadata": {
        "id": "SPBoLNuBK2Ki",
        "colab_type": "code",
        "colab": {
          "base_uri": "https://localhost:8080/",
          "height": 0
        },
        "outputId": "38b7822a-b767-41e9-fd05-707d8706a545"
      },
      "source": [
        "# 변수 선언\n",
        "num = 10\n",
        "word = 'Hello, World!'\n",
        "\n",
        "# 변수 또는 데이터 출력\n",
        "print('-----------------------')\n",
        "print(1)\n",
        "print(1, 2, 3)\n",
        "print(num, word)\n",
        "\n",
        "# sep를 이용하여 변수 또는 데이터 출력\n",
        "print('-----------------------')\n",
        "print(1, 2, 3, sep=', ')\n",
        "print(num, word, sep=' & ')\n",
        "\n",
        "# end를 이용하여 변수 또는 데이터 출력\n",
        "print('-----------------------')\n",
        "print(1, end='')\n",
        "print(2, end='')\n",
        "print(3)\n",
        "print(4, end='x')\n",
        "print(5, end='x')\n",
        "print(6)"
      ],
      "execution_count": 6,
      "outputs": [
        {
          "output_type": "stream",
          "text": [
            "-----------------------\n",
            "1\n",
            "1 2 3\n",
            "10 Hello, World!\n",
            "-----------------------\n",
            "1, 2, 3\n",
            "10 & Hello, World!\n",
            "-----------------------\n",
            "123\n",
            "4x5x6\n"
          ],
          "name": "stdout"
        }
      ]
    },
    {
      "cell_type": "code",
      "metadata": {
        "id": "qXpQC_LqNGmz",
        "colab_type": "code",
        "colab": {
          "base_uri": "https://localhost:8080/",
          "height": 0
        },
        "outputId": "4d39ab09-2f46-4a42-b93a-0c29b27ad8f1"
      },
      "source": [
        "# 변수 선어\n",
        "num = 7\n",
        "word = 'Hello, World!'\n",
        "\n",
        "# format 함수\n",
        "print('----------------------')\n",
        "print('{}'.format('Hello'))\n",
        "\n",
        "print('----------------------')\n",
        "print('{} {}'.format('Hello', 3))\n",
        "\n",
        "# 변수를 전달할 수 있음\n",
        "print('----------------------')\n",
        "print('{} {}'.format(num, word))\n",
        "\n",
        "# 자료형을 지정할 수 있음\n",
        "print('----------------------')\n",
        "print('{:d} {:x} {:s}'.format(10, 10, 'Hello'))"
      ],
      "execution_count": 7,
      "outputs": [
        {
          "output_type": "stream",
          "text": [
            "----------------------\n",
            "Hello\n",
            "----------------------\n",
            "Hello 3\n",
            "----------------------\n",
            "7 Hello, World!\n",
            "----------------------\n",
            "10 a Hello\n"
          ],
          "name": "stdout"
        }
      ]
    },
    {
      "cell_type": "code",
      "metadata": {
        "id": "H9v06CFuOykF",
        "colab_type": "code",
        "colab": {
          "base_uri": "https://localhost:8080/",
          "height": 0
        },
        "outputId": "853d915a-2a09-477f-dc1f-552eb14c6bcb"
      },
      "source": [
        "# 변수 선언\n",
        "a, b, c = 10, 20, 5\n",
        "print('---------------------')\n",
        "print('a: ', a, ', b: ', b, ', c: ', c)\n",
        "\n",
        "# 덧셈\n",
        "print('---------------------')\n",
        "print('a + b = ', a + b)\n",
        "\n",
        "# 뺄셈\n",
        "print('---------------------')\n",
        "print('a - b = ', a - b)\n",
        "\n",
        "# 곱셈\n",
        "print('---------------------')\n",
        "print('a * b = ', a * b)\n",
        "\n",
        "# 나눗셈\n",
        "print('---------------------')\n",
        "print('b / a = ', b / a)\n",
        "\n",
        "# 나머지\n",
        "print('---------------------')\n",
        "print('b % a = ', b % a)\n",
        "\n",
        "# 제곱\n",
        "print('---------------------')\n",
        "print('a ** c = ', a ** c)\n",
        "\n",
        "# 몫\n",
        "print('---------------------')\n",
        "print('a // c = ', a //c)"
      ],
      "execution_count": 9,
      "outputs": [
        {
          "output_type": "stream",
          "text": [
            "---------------------\n",
            "a:  10 , b:  20 , c:  5\n",
            "---------------------\n",
            "a + b =  30\n",
            "---------------------\n",
            "a - b =  -10\n",
            "---------------------\n",
            "a * b =  200\n",
            "---------------------\n",
            "b / a =  2.0\n",
            "---------------------\n",
            "b % a =  0\n",
            "---------------------\n",
            "a ** c =  100000\n",
            "---------------------\n",
            "a // c =  2\n"
          ],
          "name": "stdout"
        }
      ]
    },
    {
      "cell_type": "markdown",
      "metadata": {
        "id": "PZdQdmJFSQVd",
        "colab_type": "text"
      },
      "source": [
        "#2주차 과제"
      ]
    },
    {
      "cell_type": "markdown",
      "metadata": {
        "id": "IAN_kMTgSwBO",
        "colab_type": "text"
      },
      "source": [
        "###1. 별 찍기 프로그램\n",
        "-> 다음 그림과 같은 형태의 별 모양을 출력\n",
        "\n",
        "              *\n",
        "             ***\n",
        "            *****\n",
        "           *******\n",
        "          *********"
      ]
    },
    {
      "cell_type": "code",
      "metadata": {
        "id": "gRKBDYvoSvEi",
        "colab_type": "code",
        "colab": {
          "base_uri": "https://localhost:8080/",
          "height": 122
        },
        "outputId": "c2591bb1-6266-4ac4-bf79-8f6e9e984c45"
      },
      "source": [
        "print('별 찍기 프로그램 실행')\n",
        "\n",
        "for x in range(1,6):              # 5줄의 별의 출력하기 위해 5번의 for문을 반복한다\n",
        "  for y in range(6-x):            # 공백을 먼저 출력하기 위한 for문을 6-x 만큼 실행한다\n",
        "    print(' ', end='')            # 공백 출력 후 다음 줄로 넘어가는 것을 방지하기 위해 end='' 을 해준다.\n",
        "  for z in range(x*2 - 1):        # * 모양을 출력하기 위해 for문을 x*2 -1 만큼 실행한다.\n",
        "    print('*', end='')\n",
        "  print()                         # 다음 줄로 넘어가기 위해 print를 한번 해준다."
      ],
      "execution_count": 10,
      "outputs": [
        {
          "output_type": "stream",
          "text": [
            "별 찍기 프로그램 실행\n",
            "     *\n",
            "    ***\n",
            "   *****\n",
            "  *******\n",
            " *********\n"
          ],
          "name": "stdout"
        }
      ]
    },
    {
      "cell_type": "markdown",
      "metadata": {
        "id": "O7SJemtPWzR-",
        "colab_type": "text"
      },
      "source": [
        "###2. 계산기 프로그램\n",
        "\n",
        "1) 1. 덧셈, 2. 뺼셈, 3. 곱셈, 4. 나눗셈, 5. 종료에 대한 번호를 입력받음\n",
        "\n",
        "2) 1. 덧셈, 2. 뺼셈, 3. 곱셈, 4. 나눗셈 중 하나를 입력하면, 0보다 큰 정수 2개를 입력받음\n",
        "\n",
        "3) 선택한 사칙연산에 대한 식의 결과를 출력함\n",
        "\n",
        "4) 5. 종료를 입력했을 때, 계산기 프로그램 종료\n"
      ]
    },
    {
      "cell_type": "code",
      "metadata": {
        "id": "PzmfmUlfX5u5",
        "colab_type": "code",
        "colab": {
          "base_uri": "https://localhost:8080/",
          "height": 1000
        },
        "outputId": "5de68033-5972-4027-c7d5-880bd83ef5c2"
      },
      "source": [
        "def num_input():                   # 숫자를 입력받기 위한 함수 선언\n",
        "  x, y = map(int, input('0 보다 큰 정수 2개를 입력하세요: ').split(','))   # 입력받은 문자열을 , 로 분리하여 int로 저장\n",
        "  if (x < 1) or (y < 1):           # 만약 두 정수중 하나라도 1 보다 작을 경우\n",
        "    while True:                    # 제대로 된 값을 입력 할때 까지 반복한다.\n",
        "      print('\\n입력한 점수가 1 보다 작습니다.')\n",
        "      x, y = map(int, input('0보다 큰 정수 2개를 다시 입력하세요: ').split(','))   # 다시 입력 받는다.\n",
        "      if (x > 0) and (y > 0):      # 둘 다 0 보다 크게 입력 되었다면\n",
        "        break                      # break로 반복문 빠져나간다.\n",
        "  return x, y                      # return 함수로 값을 반환해준다.\n",
        "\n",
        "# 계산기 실행 부분\n",
        "print('계산기 프로그램 실행')\n",
        "\n",
        "while True:                           # 종료할때까지 반복한다.\n",
        "  print('----------------')\n",
        "  print('1. 덧셈\\n2. 뺼셈\\n3. 곱셈\\n4. 나눗셈\\n5. 종료')\n",
        "  print('----------------')\n",
        "  num = int(input('번호를 선택하세요 : '))          # 번호를 입력 받는다.\n",
        "  if num not in [1,2,3,4,5]:                        # 입력받은 번호가 리스트 안에 없으면\n",
        "    print('번호를 다시 입력하세요.\\n')\n",
        "    continue                                        # 위로 되돌아 간다.\n",
        "  elif num == 5:\n",
        "    print('종료합니다.')                            # 5 입력으로 종료\n",
        "    break\n",
        "  elif num == 1:                                    # 1 입력 일때\n",
        "    x, y = num_input()                              # 숫자 입력 받기 위해 num_input 함수 호출 후 반환값 저장\n",
        "    print('\\n연산결과: ', x, '+', y ,'=', x + y)    # 연산값 출력\n",
        "  elif num == 2:                                    # 2 입력 일때\n",
        "    x, y = num_input()\n",
        "    print('\\n연산결과: ', x, '-', y ,'=', x - y)\n",
        "  elif num == 3:                                    # 3 입력 일때\n",
        "    x, y = num_input()\n",
        "    print('\\n연산결과: ', x, '*', y ,'=', x * y)\n",
        "  elif num == 4:                                    # 4 입력 일때\n",
        "    x, y = num_input()\n",
        "    print('\\n연산결과: ', x, '/', y ,'=', x / y)"
      ],
      "execution_count": 16,
      "outputs": [
        {
          "output_type": "stream",
          "text": [
            "계산기 프로그램 실행\n",
            "----------------\n",
            "1. 덧셈\n",
            "2. 뺼셈\n",
            "3. 곱셈\n",
            "4. 나눗셈\n",
            "5. 종료\n",
            "----------------\n",
            "번호를 선택하세요 : 1\n",
            "0 보다 큰 정수 2개를 입력하세요: 1,0\n",
            "\n",
            "입력한 점수가 1 보다 작습니다.\n",
            "0보다 큰 정수 2개를 다시 입력하세요: 0,-3\n",
            "\n",
            "입력한 점수가 1 보다 작습니다.\n",
            "0보다 큰 정수 2개를 다시 입력하세요: 1,4\n",
            "\n",
            "연산결과:  1 + 4 = 5\n",
            "----------------\n",
            "1. 덧셈\n",
            "2. 뺼셈\n",
            "3. 곱셈\n",
            "4. 나눗셈\n",
            "5. 종료\n",
            "----------------\n",
            "번호를 선택하세요 : 2\n",
            "0 보다 큰 정수 2개를 입력하세요: 3,5\n",
            "\n",
            "연산결과:  3 - 5 = -2\n",
            "----------------\n",
            "1. 덧셈\n",
            "2. 뺼셈\n",
            "3. 곱셈\n",
            "4. 나눗셈\n",
            "5. 종료\n",
            "----------------\n",
            "번호를 선택하세요 : 3\n",
            "0 보다 큰 정수 2개를 입력하세요: 2,7\n",
            "\n",
            "연산결과:  2 * 7 = 14\n",
            "----------------\n",
            "1. 덧셈\n",
            "2. 뺼셈\n",
            "3. 곱셈\n",
            "4. 나눗셈\n",
            "5. 종료\n",
            "----------------\n",
            "번호를 선택하세요 : 4\n",
            "0 보다 큰 정수 2개를 입력하세요: 3,9\n",
            "\n",
            "연산결과:  3 / 9 = 0.3333333333333333\n",
            "----------------\n",
            "1. 덧셈\n",
            "2. 뺼셈\n",
            "3. 곱셈\n",
            "4. 나눗셈\n",
            "5. 종료\n",
            "----------------\n",
            "번호를 선택하세요 : 5\n",
            "종료합니다.\n"
          ],
          "name": "stdout"
        }
      ]
    },
    {
      "cell_type": "markdown",
      "metadata": {
        "id": "A9_NV-d4IWfW",
        "colab_type": "text"
      },
      "source": [
        "###3. 두개의 리스트에 모두 있는 요소를 리스트로 반환하는 프로그램\n",
        "- 첫 번째 리스트 = [1, 5, 19, 78, 45, 98]\n",
        "- 두 번째 리스트 = [36, 13, 45, 22, 78, 3, 57, 82]\n",
        "- 요소를 리스트에 저장한 후 오름차순으로 정렬하여 출력"
      ]
    },
    {
      "cell_type": "code",
      "metadata": {
        "id": "pLv-cLTTJBEp",
        "colab_type": "code",
        "colab": {
          "base_uri": "https://localhost:8080/",
          "height": 34
        },
        "outputId": "cf2bc993-e8af-41c0-8d83-e454ab5235fa"
      },
      "source": [
        "list1 = [1, 5, 19, 78, 45, 98]                  # list1 선언\n",
        "list2 = [36, 13, 45, 22, 78, 3, 57, 82]         # list2 선언\n",
        "\n",
        "list3 = []          # 빈 리스트인 list3 선언\n",
        "\n",
        "for x in list1:             # list1의 요소를 x 에 차례대로 넣어준다.\n",
        "  for y in list2:           # list2의 요소를 y 에 차례대로 넣어준다.\n",
        "    if x == y:              # x 와 y 의 값이 같으면\n",
        "      list3.append(x)       # list3에 append를 사용하여 넣어준다.\n",
        "list3.sort()                # list3를 sort 사용하여 정렬한다.\n",
        "\n",
        "print('결과 리스트: ', list3)"
      ],
      "execution_count": 17,
      "outputs": [
        {
          "output_type": "stream",
          "text": [
            "결과 리스트:  [45, 78]\n"
          ],
          "name": "stdout"
        }
      ]
    }
  ]
}