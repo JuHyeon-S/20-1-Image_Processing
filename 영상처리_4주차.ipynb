{
  "nbformat": 4,
  "nbformat_minor": 0,
  "metadata": {
    "colab": {
      "name": "영상처리 4주차.ipynb",
      "provenance": [],
      "authorship_tag": "ABX9TyPA1kkcoRbGlKDOVcIZwswD",
      "include_colab_link": true
    },
    "kernelspec": {
      "name": "python3",
      "display_name": "Python 3"
    }
  },
  "cells": [
    {
      "cell_type": "markdown",
      "metadata": {
        "id": "view-in-github",
        "colab_type": "text"
      },
      "source": [
        "<a href=\"https://colab.research.google.com/github/JuHyeon-S/20-1-Image_Processing/blob/master/%EC%98%81%EC%83%81%EC%B2%98%EB%A6%AC_4%EC%A3%BC%EC%B0%A8.ipynb\" target=\"_parent\"><img src=\"https://colab.research.google.com/assets/colab-badge.svg\" alt=\"Open In Colab\"/></a>"
      ]
    },
    {
      "cell_type": "markdown",
      "metadata": {
        "id": "oz9zPz61Kk2z",
        "colab_type": "text"
      },
      "source": [
        "#4주차 실습"
      ]
    },
    {
      "cell_type": "code",
      "metadata": {
        "id": "OQp85ChPJ_nS",
        "colab_type": "code",
        "colab": {}
      },
      "source": [
        "import matplotlib.pyplot as plt\n",
        "%matplotlib inline"
      ],
      "execution_count": 0,
      "outputs": []
    },
    {
      "cell_type": "code",
      "metadata": {
        "id": "pcMqZGtLLEp-",
        "colab_type": "code",
        "colab": {}
      },
      "source": [
        ""
      ],
      "execution_count": 0,
      "outputs": []
    },
    {
      "cell_type": "markdown",
      "metadata": {
        "id": "yiDPT5yQO2Gm",
        "colab_type": "text"
      },
      "source": [
        "#4주차 과제"
      ]
    },
    {
      "cell_type": "markdown",
      "metadata": {
        "id": "4lmZJnAtO54-",
        "colab_type": "text"
      },
      "source": [
        ""
      ]
    },
    {
      "cell_type": "code",
      "metadata": {
        "id": "zJsucY8QO6ZM",
        "colab_type": "code",
        "colab": {
          "base_uri": "https://localhost:8080/",
          "height": 298
        },
        "outputId": "be30d742-7be5-4beb-dad9-ef1ce539a884"
      },
      "source": [
        "import numpy as np\n",
        "import matplotlib.pyplot as plt\n",
        "import cv2\n",
        "\n",
        "%matplotlib inline\n",
        "\n",
        "col = 1280\n",
        "row = 1920\n",
        "\n",
        "img = np.zeros((col, row, 3), dtype=np.int)\n",
        "\n",
        "for i in range(int(col * (1/4)), int(col * (3/4)) + 1):\n",
        "  for j in range(int(row * (4/9)), int(row * (5/9)) + 1):\n",
        "    img[i][j] = 255\n",
        "\n",
        "for i in range(int(col * (4/9)), int(col * (5/9)) + 1):\n",
        "  for j in range(int(row * (1/4)), int(row * (3/4)) + 1):\n",
        "    img[i][j] = 255\n",
        "\n",
        "plt.title(\"Cross\")\n",
        "plt.imshow(img)\n",
        "plt.show()\n",
        "\n",
        "cv2.imwrite('./Cross.jpg', img)"
      ],
      "execution_count": 6,
      "outputs": [
        {
          "output_type": "display_data",
          "data": {
            "image/png": "[encoded data removed]",
            "text/plain": [
              "<Figure size 432x288 with 1 Axes>"
            ]
          },
          "metadata": {
            "tags": [],
            "needs_background": "light"
          }
        },
        {
          "output_type": "execute_result",
          "data": {
            "text/plain": [
              "True"
            ]
          },
          "metadata": {
            "tags": []
          },
          "execution_count": 6
        }
      ]
    },
    {
      "cell_type": "code",
      "metadata": {
        "id": "qgYZEJ_QEYVm",
        "colab_type": "code",
        "colab": {}
      },
      "source": [
        ""
      ],
      "execution_count": 0,
      "outputs": []
    },
    {
      "cell_type": "markdown",
      "metadata": {
        "id": "sE5lgOBmB-fy",
        "colab_type": "text"
      },
      "source": [
        "## 과제 2\n",
        "\n",
        "\n",
        "\n",
        "\n",
        "1.   이미지 A의 화소 값에서 최솟값과 최댓값을 구하시오\n",
        "2.   이미지 A의 각 화소 값을 다음 식을 이용하여 값을 변환하시오.(이미지 B)\n",
        "\n",
        ">*   v = (u - min) / (max - min) * 255\n",
        "*   u : 이미지 A 화소의 명암 값\n",
        "*   v : 변환된 명암 값\n",
        "\n",
        "3.   이미지 B의 화소 값에서 최솟값과 최댓값을 구하시오.\n",
        "4.   아래 결과와 같이 1행 2열로 이미지 A와 B를 출력하시오.\n",
        ">*   이미지 B 출력 시, vmin = 0, vmax = 255로 설정\n",
        "\n",
        "\n",
        "\n"
      ]
    },
    {
      "cell_type": "code",
      "metadata": {
        "id": "HcfC0SnhXTqs",
        "colab_type": "code",
        "colab": {}
      },
      "source": [
        "import cv2\n",
        "import matplotlib.pyplot as plt\n",
        "%matplotlib inline\n",
        "\n",
        "img = cv2.imread('./cat.jpg')\n",
        "\n"
      ],
      "execution_count": 0,
      "outputs": []
    }
  ]
}