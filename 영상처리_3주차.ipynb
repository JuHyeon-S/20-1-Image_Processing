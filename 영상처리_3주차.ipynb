{
  "nbformat": 4,
  "nbformat_minor": 0,
  "metadata": {
    "colab": {
      "name": "영상처리 3주차.ipynb",
      "provenance": [],
      "collapsed_sections": [
        "d0oczUXej8H8"
      ],
      "authorship_tag": "ABX9TyMAVPgx8j98GaWbgysl2y/D",
      "include_colab_link": true
    },
    "kernelspec": {
      "name": "python3",
      "display_name": "Python 3"
    }
  },
  "cells": [
    {
      "cell_type": "markdown",
      "metadata": {
        "id": "view-in-github",
        "colab_type": "text"
      },
      "source": [
        "<a href=\"https://colab.research.google.com/github/JuHyeon-S/20-1-Image_Processing/blob/master/%EC%98%81%EC%83%81%EC%B2%98%EB%A6%AC_3%EC%A3%BC%EC%B0%A8.ipynb\" target=\"_parent\"><img src=\"https://colab.research.google.com/assets/colab-badge.svg\" alt=\"Open In Colab\"/></a>"
      ]
    },
    {
      "cell_type": "markdown",
      "metadata": {
        "id": "d0oczUXej8H8",
        "colab_type": "text"
      },
      "source": [
        "#3주차 실습\n",
        "\n",
        "-> Numpy 라이브러리"
      ]
    },
    {
      "cell_type": "markdown",
      "metadata": {
        "id": "qO34YMtGkaIZ",
        "colab_type": "text"
      },
      "source": [
        "###Numpy\n",
        "- 행렬, 다차원 배열, 벡터 등을 쉽게 처리할 수 있도롥 지원하는 Python 라이브러리\n",
        "- 데이터 구조 외에도 수치 계산을 위해 효율적으로 구현된 기능을 제공함\n",
        "- ndarray는 Numpy의 핵심인 다차원 행렬 자료구조 클래스이며 모든 요소는 같은 자료형 이어야 함\n",
        "\n",
        "- pip install numpy을 이용하여 numpy 라이브러리를 설치할수 있음\n",
        ">  Jupyter Notebook에는 이미 설치되어 있음"
      ]
    },
    {
      "cell_type": "code",
      "metadata": {
        "id": "BElEm6b1kZZ0",
        "colab_type": "code",
        "colab": {
          "base_uri": "https://localhost:8080/",
          "height": 0
        },
        "outputId": "b6024f07-86af-4674-edd7-d760d4245152"
      },
      "source": [
        "pip install numpy"
      ],
      "execution_count": 1,
      "outputs": [
        {
          "output_type": "stream",
          "text": [
            "Requirement already satisfied: numpy in /usr/local/lib/python3.6/dist-packages (1.18.2)\n"
          ],
          "name": "stdout"
        }
      ]
    },
    {
      "cell_type": "code",
      "metadata": {
        "id": "jeIQnJEOkHOx",
        "colab_type": "code",
        "colab": {
          "base_uri": "https://localhost:8080/",
          "height": 0
        },
        "outputId": "d574ae79-927d-47b0-a843-4f8dce4813d7"
      },
      "source": [
        "import numpy as np      # np라는 명칭으로 지정하여 사용함\n",
        "\n",
        "# 리스트를 이용하여 배열 생성\n",
        "print(\"--------------------------\")\n",
        "list1 = [0, 1, 2, 3, 4]\n",
        "arr1 = np.array(list1)\n",
        "print('arr1')\n",
        "print('{}\\n'.format(arr1))\n",
        "print('배열 자료형: {}'.format(type(arr1)))\n",
        "print('배열 형태:{}, 배열 차원: {}'.format(arr1.shape, arr1.ndim))\n",
        "\n",
        "print(\"--------------------------\")\n",
        "arr2 = np.array([5, 6, 7, 8, 9, 10])\n",
        "print('arr2')\n",
        "print('{}\\n'.format(arr2))\n",
        "print('배열 형태:{}, 배열 차원: {}'.format(arr2.shape, arr2.ndim))\n",
        "\n",
        "print(\"--------------------------\")\n",
        "arr3 = np.array([[1, 3, 5], [2, 4, 6], [7, 8, 9]])\n",
        "print('arr3')\n",
        "print('{}\\n'.format(arr3))\n",
        "print('배열 형태:{}, 배열 차원: {}'.format(arr3.shape, arr3.ndim))"
      ],
      "execution_count": 3,
      "outputs": [
        {
          "output_type": "stream",
          "text": [
            "--------------------------\n",
            "arr1\n",
            "[0 1 2 3 4]\n",
            "\n",
            "배열 자료형: <class 'numpy.ndarray'>\n",
            "배열 형태:(5,), 배열 차원: 1\n",
            "--------------------------\n",
            "arr2\n",
            "[ 5  6  7  8  9 10]\n",
            "\n",
            "배열 형태:(6,), 배열 차원: 1\n",
            "--------------------------\n",
            "arr3\n",
            "[[1 3 5]\n",
            " [2 4 6]\n",
            " [7 8 9]]\n",
            "\n",
            "배열 형태:(3, 3), 배열 차원: 2\n"
          ],
          "name": "stdout"
        }
      ]
    },
    {
      "cell_type": "code",
      "metadata": {
        "id": "JNaNg-KOoRwx",
        "colab_type": "code",
        "colab": {
          "base_uri": "https://localhost:8080/",
          "height": 0
        },
        "outputId": "f7581979-926d-4bb0-c8c6-4e5ef6a60155"
      },
      "source": [
        "import numpy as np\n",
        "\n",
        "print('zeros()를 이용한 배열 생성\\n')\n",
        "\n",
        "# zeros\n",
        "print('-----------------------------------------------------')\n",
        "arr_zeros_1 = np.zeros(5)\n",
        "print('크기가 5인 1차원 배열')\n",
        "print('{}\\n'.format(arr_zeros_1))\n",
        "print('자료형: {}'.format(arr_zeros_1.dtype))\n",
        "\n",
        "print('-----------------------------------------------------')\n",
        "arr_zeros_2 = np.zeros((2, 3))\n",
        "print('2개의 행과 3개의 열로 이루어진 2차원 배열')\n",
        "print('{}\\n'.format(arr_zeros_2))\n",
        "print('자료형: {}'.format(arr_zeros_2.dtype))\n",
        "\n",
        "print('-----------------------------------------------------')\n",
        "arr_zeros_3 = np.zeros((5, 2))\n",
        "print('5개의 행과 2개의 열로 이루어진 2차원 배열')\n",
        "print('{}\\n'.format(arr_zeros_3))\n",
        "print('자료형: {}'.format(arr_zeros_3.dtype))"
      ],
      "execution_count": 4,
      "outputs": [
        {
          "output_type": "stream",
          "text": [
            "zeros()를 이용한 배열 생성\n",
            "\n",
            "-----------------------------------------------------\n",
            "크기가 5인 1차원 배열\n",
            "[0. 0. 0. 0. 0.]\n",
            "\n",
            "자료형: float64\n",
            "-----------------------------------------------------\n",
            "2개의 행과 3개의 열로 이루어진 2차원 배열\n",
            "[[0. 0. 0.]\n",
            " [0. 0. 0.]]\n",
            "\n",
            "자료형: float64\n",
            "-----------------------------------------------------\n",
            "5개의 행과 2개의 열로 이루어진 2차원 배열\n",
            "[[0. 0.]\n",
            " [0. 0.]\n",
            " [0. 0.]\n",
            " [0. 0.]\n",
            " [0. 0.]]\n",
            "\n",
            "자료형: float64\n"
          ],
          "name": "stdout"
        }
      ]
    },
    {
      "cell_type": "markdown",
      "metadata": {
        "id": "kaGigMlc2VBi",
        "colab_type": "text"
      },
      "source": [
        "#3주차 과제"
      ]
    },
    {
      "cell_type": "markdown",
      "metadata": {
        "id": "Cx-P8iOI2aCz",
        "colab_type": "text"
      },
      "source": [
        "## 과제 1번\n",
        "\n",
        "- 1부터 50까지의 요소를 가지는 배열을 생성하시오.\n",
        "- 배열 요소 중 홀수와 짝수를 분류하여 배열로 저장하시오,\n",
        "> 단, for문과 if문 사용하지 않음\n",
        "- 홀수 배열과 짝수 배열을 전치 변환하시오,\n",
        "- 전치 변환한 홀수 배열과 짝수 배열을 행렬 곱 연산을 수행하시오."
      ]
    },
    {
      "cell_type": "code",
      "metadata": {
        "id": "z4AGm_EG3zf2",
        "colab_type": "code",
        "colab": {
          "base_uri": "https://localhost:8080/",
          "height": 728
        },
        "outputId": "45db6c3b-1d32-4994-d492-752783e82d48"
      },
      "source": [
        "import numpy as np        # numpy 라이브러리를 np라는 명칭으로 사용한다.\n",
        "\n",
        "# 1~50까지의 배열 생성\n",
        "arr = np.arange(1,51)\n",
        "print(\"1 ~ 50까지의 요소를 가지는 배열 생성\\n{}\\n\".format(arr))\n",
        "\n",
        "# 홀수 짝수 분류\n",
        "oddarr = arr[np.where(arr%2 != 0)].reshape(5,5)       # np.where 로 홀수 찾아 5x5로 형태 변환한다.\n",
        "evenarr = arr[np.where(arr%2 == 0)].reshape(5,5)      # np.where 로 짝수 찾아 5x5로 형태 변환한다.\n",
        "print(\"배열 요소중 홀수인 값\\n{}\\n\".format(oddarr))\n",
        "print(\"배열 요소중 짝수인 값\\n{}\\n\".format(evenarr))\n",
        "\n",
        "oddarr2 = oddarr.T                                    # T 함수로 배열을 전치 변환한다.\n",
        "evenarr2 = evenarr.T\n",
        "print(\"홀수 배열을 전치 변환\\n{}\\n\".format(oddarr2))\n",
        "print(\"짝수 배열을 전치 변환\\n{}\\n\".format(evenarr2))\n",
        "\n",
        "# 행렬 곱을 연산하는 dot 함수를 사용하여 계산한다.\n",
        "print(\"\\n전치 변환한 홀수 배열과 짝수 배열의 행렬 곱 연산\\n{}\".format(np.dot(oddarr2, evenarr2)))"
      ],
      "execution_count": 1,
      "outputs": [
        {
          "output_type": "stream",
          "text": [
            "1 ~ 50까지의 요소를 가지는 배열 생성\n",
            "[ 1  2  3  4  5  6  7  8  9 10 11 12 13 14 15 16 17 18 19 20 21 22 23 24\n",
            " 25 26 27 28 29 30 31 32 33 34 35 36 37 38 39 40 41 42 43 44 45 46 47 48\n",
            " 49 50]\n",
            "\n",
            "배열 요소중 홀수인 값\n",
            "[[ 1  3  5  7  9]\n",
            " [11 13 15 17 19]\n",
            " [21 23 25 27 29]\n",
            " [31 33 35 37 39]\n",
            " [41 43 45 47 49]]\n",
            "\n",
            "배열 요소중 짝수인 값\n",
            "[[ 2  4  6  8 10]\n",
            " [12 14 16 18 20]\n",
            " [22 24 26 28 30]\n",
            " [32 34 36 38 40]\n",
            " [42 44 46 48 50]]\n",
            "\n",
            "홀수 배열을 전치 변환\n",
            "[[ 1 11 21 31 41]\n",
            " [ 3 13 23 33 43]\n",
            " [ 5 15 25 35 45]\n",
            " [ 7 17 27 37 47]\n",
            " [ 9 19 29 39 49]]\n",
            "\n",
            "짝수 배열을 전치 변환\n",
            "[[ 2 12 22 32 42]\n",
            " [ 4 14 24 34 44]\n",
            " [ 6 16 26 36 46]\n",
            " [ 8 18 28 38 48]\n",
            " [10 20 30 40 50]]\n",
            "\n",
            "\n",
            "전치 변환한 홀수 배열과 짝수 배열의 행렬 곱 연산\n",
            "[[ 830 1880 2930 3980 5030]\n",
            " [ 890 2040 3190 4340 5490]\n",
            " [ 950 2200 3450 4700 5950]\n",
            " [1010 2360 3710 5060 6410]\n",
            " [1070 2520 3970 5420 6870]]\n"
          ],
          "name": "stdout"
        }
      ]
    },
    {
      "cell_type": "markdown",
      "metadata": {
        "id": "0SPUudHDVAwb",
        "colab_type": "text"
      },
      "source": [
        "##과제 2번\n",
        "#### 두 배열이 있을 때, 아래의 문제들을 해결하시오\n",
        "- 첫 번째 배열 = [1, 2, 3, 5, 3, 4, 3, 6, 9, 7, 0, 8, 7, 10]\n",
        "- 두 번째 배열 = [7, 2, 10, 5, 7, 4, 9, 1, 9, 8, 0, 3, 7, 6]\n",
        "\n",
        "######1) 두 배열에 모두 존재하는 요소와 색인 위치를 반환하시오\n",
        "- 단, for 문과 if 문 사용하지 않음\n",
        "- 결과\n",
        "> 두 배열에 모두 존재하는 요소: [2 5  4 9 0 7]\n",
        ">\n",
        "> 두 배열에 존재하는 요소의 색인 위치: (array([1, 3, 5, 8, 10, 12]),)\n",
        "\n",
        "######2) 반환된 배열을 다음과 형태로 변형하시오\n",
        "- 결과\n",
        "> 배열 형태 변형\n",
        ">\n",
        "> [[2 5 4] [9 0 7]]\n",
        "\n",
        "\n"
      ]
    },
    {
      "cell_type": "code",
      "metadata": {
        "id": "dVKKMIWQBEWh",
        "colab_type": "code",
        "colab": {
          "base_uri": "https://localhost:8080/",
          "height": 230
        },
        "outputId": "d73ab33e-810c-41d1-84f2-2358ccddec1d"
      },
      "source": [
        "import numpy as np\n",
        "\n",
        "# np.array 함수로 배열을 선언한다.(np.where 사용을 위해)\n",
        "arr1 = np.array([1, 2, 3, 5, 3, 4, 3, 6, 9, 7, 0, 8, 7, 10])\n",
        "arr2 = np.array([7, 2, 10, 5, 7, 4, 9, 1, 9, 8, 0, 3, 7, 6])\n",
        "\n",
        "# np.where 함수로 arr1과 arr2에 모두 존재하는 요소를 찾아 arr3에 저장\n",
        "# 배열이름[np.where()] -> 요소 반환 / np.where() -> 위치 반환\n",
        "arr3 = arr1[np.where(arr1 == arr2)]\n",
        "\n",
        "print(\"두 배열에 모두 존재하는 요소: {}\".format(arr3))\n",
        "print(\"두 배열에 모두 존재하는 요소의 색인 위치: {}\".format(np.where(arr1 == arr2)))\n",
        "\n",
        "# 배열의 형태를 2x3 으로 변형한다.\n",
        "arr3 = arr3.reshape(2, 3)\n",
        "print(\"\\n배열 형태 변형\\n{}\".format(arr3))\n",
        "\n",
        "# np.max() / np.min() -> 최댓값 / 최솟값 요소\n",
        "# np.argmax() / np.argmin() -> 최댓값 / 최솟값 색인 위치\n",
        "# axis >>  0 이면 열 기준  /  1 이면 행 기준\n",
        "print(\"\\n열(Column)을 기준으로\\n배열의 최댓값: {}, 최댓값의 색인 위치: {}\".format(np.max(arr3, axis = 0), np.argmax(arr3, axis = 0)))\n",
        "print(\"\\n행(Row)을 기준으로\\n배열의 최솟값: {}, 최솟값의 색인 위치: {}\".format(np.min(arr3, axis = 1), np.argmin(arr3, axis = 1)))"
      ],
      "execution_count": 2,
      "outputs": [
        {
          "output_type": "stream",
          "text": [
            "두 배열에 모두 존재하는 요소: [2 5 4 9 0 7]\n",
            "두 배열에 모두 존재하는 요소의 색인 위치: (array([ 1,  3,  5,  8, 10, 12]),)\n",
            "\n",
            "배열 형태 변형\n",
            "[[2 5 4]\n",
            " [9 0 7]]\n",
            "\n",
            "열(Column)을 기준으로\n",
            "배열의 최댓값: [9 5 7], 최댓값의 색인 위치: [1 0 1]\n",
            "\n",
            "행(Row)을 기준으로\n",
            "배열의 최솟값: [2 0], 최솟값의 색인 위치: [0 1]\n"
          ],
          "name": "stdout"
        }
      ]
    }
  ]
}